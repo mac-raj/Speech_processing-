{
  "nbformat": 4,
  "nbformat_minor": 0,
  "metadata": {
    "colab": {
      "provenance": [],
      "authorship_tag": "ABX9TyMcyXxh6hsSgRPB2cwaP8NE",
      "include_colab_link": true
    },
    "kernelspec": {
      "name": "python3",
      "display_name": "Python 3"
    },
    "language_info": {
      "name": "python"
    }
  },
  "cells": [
    {
      "cell_type": "markdown",
      "metadata": {
        "id": "view-in-github",
        "colab_type": "text"
      },
      "source": [
        "<a href=\"https://colab.research.google.com/github/mac-raj/Speech_processing-/blob/main/Program4.ipynb\" target=\"_parent\"><img src=\"https://colab.research.google.com/assets/colab-badge.svg\" alt=\"Open In Colab\"/></a>"
      ]
    },
    {
      "cell_type": "markdown",
      "source": [
        "# Write a Python function for feature Extraction from Speech.\n"
      ],
      "metadata": {
        "id": "hBnnxnQRvTqS"
      }
    },
    {
      "cell_type": "code",
      "source": [
        "from google.colab import drive\n",
        "drive.mount('/content/gdrive')"
      ],
      "metadata": {
        "colab": {
          "base_uri": "https://localhost:8080/"
        },
        "id": "o3Zpv40UvRdQ",
        "outputId": "9dfd316c-fd3a-4b95-bc62-5d89bc997270"
      },
      "execution_count": null,
      "outputs": [
        {
          "output_type": "stream",
          "name": "stdout",
          "text": [
            "Mounted at /content/gdrive\n"
          ]
        }
      ]
    },
    {
      "cell_type": "code",
      "execution_count": null,
      "metadata": {
        "colab": {
          "base_uri": "https://localhost:8080/"
        },
        "id": "jgvublRhvLdn",
        "outputId": "296838ea-2bc2-4409-fcbd-c9a4f1ece72f"
      },
      "outputs": [
        {
          "output_type": "stream",
          "name": "stdout",
          "text": [
            "Looking in indexes: https://pypi.org/simple, https://us-python.pkg.dev/colab-wheels/public/simple/\n",
            "Collecting python_speech_features\n",
            "  Downloading python_speech_features-0.6.tar.gz (5.6 kB)\n",
            "  Preparing metadata (setup.py) ... \u001b[?25l\u001b[?25hdone\n",
            "Building wheels for collected packages: python_speech_features\n",
            "  Building wheel for python_speech_features (setup.py) ... \u001b[?25l\u001b[?25hdone\n",
            "  Created wheel for python_speech_features: filename=python_speech_features-0.6-py3-none-any.whl size=5886 sha256=f688b295398ef1a597d36e124f347c6f3b0d9f9f413a2f09133c8ec359e3fbf2\n",
            "  Stored in directory: /root/.cache/pip/wheels/09/a1/04/08e2688d2562d8f9ff89e77c6ddfbf7268e07dae1a6f22455e\n",
            "Successfully built python_speech_features\n",
            "Installing collected packages: python_speech_features\n",
            "Successfully installed python_speech_features-0.6\n"
          ]
        }
      ],
      "source": [
        "import numpy as np\n",
        "import scipy.io.wavfile as wav\n",
        "!pip install python_speech_features\n",
        "import python_speech_features as psf"
      ]
    },
    {
      "cell_type": "code",
      "source": [
        "def extract_features(filename):\n",
        "  # Load audio file \n",
        "  rate, signal = wav.read(filename)\n",
        "\n",
        "  # Pre-emphasis filter \n",
        "  pre_empasized_signal = psf.sigproc.preemphasis(signal)\n",
        "\n",
        "  # Framming \n",
        "  frame_size = 0.025  # 25ms\n",
        "  frame_stride = 0.01  # 10ms\n",
        "  frames = psf.sigproc.framesig(pre_empasized_signal, frame_size*rate, frame_stride*rate)\n",
        "\n",
        "  # Windowing\n",
        "  window = np.hamming(len(frames[0]))\n",
        "  windowed_frames = np.array([frame * window for frame in frames])\n",
        "\n",
        "  # MFCC calculation\n",
        "  num_ceps = 12\n",
        "  mfcc_features = psf.mfcc(windowed_frames,rate,numcep=num_ceps)\n",
        "\n",
        "  # Delta and delta-delta features \n",
        "  delta_features = psf.delta(mfcc_features,2)\n",
        "  delta_delta_features = psf.delta(delta_features,2)\n",
        "\n",
        "  # Concatenating features\n",
        "  features = np.concatenate((mfcc_features,delta_features,delta_delta_features),axis=1)\n",
        "\n",
        "  return features"
      ],
      "metadata": {
        "id": "X-U4Un6Dvp_2"
      },
      "execution_count": 8,
      "outputs": []
    },
    {
      "cell_type": "code",
      "source": [
        "filename = '/content/gdrive/MyDrive/Audio_signal_data/sample.wav'\n",
        "extract_features(filename)"
      ],
      "metadata": {
        "id": "3pMpThTdybhv",
        "colab": {
          "base_uri": "https://localhost:8080/"
        },
        "outputId": "91f5e468-d861-4ed4-a6ff-239ff9222ca3"
      },
      "execution_count": 9,
      "outputs": [
        {
          "output_type": "stream",
          "name": "stderr",
          "text": [
            "<ipython-input-8-67face72ef92>:3: WavFileWarning: Chunk (non-data) not understood, skipping it.\n",
            "  rate, signal = wav.read(filename)\n",
            "WARNING:root:frame length (1103) is greater than FFT size (512), frame will be truncated. Increase NFFT to avoid.\n"
          ]
        },
        {
          "output_type": "execute_result",
          "data": {
            "text/plain": [
              "array([[ 1.05821784e+01,  6.49269968e+00,  9.38577956e-01, ...,\n",
              "        -2.62133484e-01,  1.66375848e-01,  1.52925863e-02],\n",
              "       [ 1.15033445e+01,  6.61331317e+00,  4.02263229e+00, ...,\n",
              "        -4.09273634e-01,  4.68482484e-01,  2.84416471e-02],\n",
              "       [ 9.63083428e+00,  8.79654327e+00,  1.19891402e+01, ...,\n",
              "        -6.73379879e-01,  4.32598408e-01,  1.85646415e-02],\n",
              "       ...,\n",
              "       [ 1.21367605e+01,  6.68384700e+00,  2.55481005e+01, ...,\n",
              "        -2.02501133e-01, -5.40106022e-01, -4.05967999e-01],\n",
              "       [ 1.07329989e+01,  6.02889683e+00,  2.59968983e+01, ...,\n",
              "        -2.33390961e-01, -5.47046886e-01, -3.16826416e-01],\n",
              "       [ 1.23962475e+01,  1.36223473e+01,  1.90472679e+01, ...,\n",
              "        -4.29581671e-01, -2.59884848e-01, -1.88836131e-01]])"
            ]
          },
          "metadata": {},
          "execution_count": 9
        }
      ]
    }
  ]
}