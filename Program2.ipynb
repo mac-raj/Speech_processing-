{
  "nbformat": 4,
  "nbformat_minor": 0,
  "metadata": {
    "colab": {
      "provenance": [],
      "authorship_tag": "ABX9TyN6v16zHTBBwwVAR2XUX5K2",
      "include_colab_link": true
    },
    "kernelspec": {
      "name": "python3",
      "display_name": "Python 3"
    },
    "language_info": {
      "name": "python"
    }
  },
  "cells": [
    {
      "cell_type": "markdown",
      "metadata": {
        "id": "view-in-github",
        "colab_type": "text"
      },
      "source": [
        "<a href=\"https://colab.research.google.com/github/mac-raj/Speech_processing-/blob/main/Program2.ipynb\" target=\"_parent\"><img src=\"https://colab.research.google.com/assets/colab-badge.svg\" alt=\"Open In Colab\"/></a>"
      ]
    },
    {
      "cell_type": "markdown",
      "source": [
        "# Write a Python function for characterizing the Audio Signal: Transforming to Frequency Domain."
      ],
      "metadata": {
        "id": "hLxru6sUrV9J"
      }
    },
    {
      "cell_type": "code",
      "execution_count": null,
      "metadata": {
        "colab": {
          "base_uri": "https://localhost:8080/"
        },
        "id": "uP0gzAi_miEF",
        "outputId": "d667f75d-05b0-4eb0-f9bb-acb4dbd53521"
      },
      "outputs": [
        {
          "output_type": "stream",
          "name": "stdout",
          "text": [
            "Mounted at /content/gdrive\n"
          ]
        }
      ],
      "source": [
        "from google.colab import drive\n",
        "drive.mount('/content/gdrive')"
      ]
    },
    {
      "cell_type": "code",
      "source": [
        "import numpy as np\n",
        "from scipy.io import wavfile\n"
      ],
      "metadata": {
        "id": "s3XlxBtinQTe"
      },
      "execution_count": null,
      "outputs": []
    },
    {
      "cell_type": "code",
      "source": [
        "def audio_to_frequency(filename):\n",
        "  # Load audio file using wavfile \n",
        "  sample_rate, audio_data = wavfile.read(filename)\n",
        "\n",
        "  # Apply fft to audio data\n",
        "  freq_data = np.fft.fft(audio_data)\n",
        "\n",
        "  # Calculate power spectral density (PSD)\n",
        "  psd = np.abs(freq_data) ** 2\n",
        "\n",
        "  #Retrun frequency data and PSD\n",
        "  return freq_data, psd\n",
        "\n",
        "filename ='/content/gdrive/MyDrive/Audio_signal_data/sample.wav'\n",
        "audio_to_frequency(filename)"
      ],
      "metadata": {
        "colab": {
          "base_uri": "https://localhost:8080/"
        },
        "id": "d0NKGVvCneR0",
        "outputId": "60067590-b092-4d7b-dd2a-1093938ed3f6"
      },
      "execution_count": null,
      "outputs": [
        {
          "output_type": "stream",
          "name": "stderr",
          "text": [
            "<ipython-input-9-186db4db9610>:3: WavFileWarning: Chunk (non-data) not understood, skipping it.\n",
            "  sample_rate, audio_data = wavfile.read(filename)\n"
          ]
        },
        {
          "output_type": "execute_result",
          "data": {
            "text/plain": [
              "(array([[-181.+0.j, -227.+0.j],\n",
              "        [-201.+0.j, -265.+0.j],\n",
              "        [-157.+0.j, -225.+0.j],\n",
              "        ...,\n",
              "        [1322.+0.j,  -30.+0.j],\n",
              "        [1386.+0.j,  -28.+0.j],\n",
              "        [1273.+0.j,  -27.+0.j]]),\n",
              " array([[3.276100e+04, 5.152900e+04],\n",
              "        [4.040100e+04, 7.022500e+04],\n",
              "        [2.464900e+04, 5.062500e+04],\n",
              "        ...,\n",
              "        [1.747684e+06, 9.000000e+02],\n",
              "        [1.920996e+06, 7.840000e+02],\n",
              "        [1.620529e+06, 7.290000e+02]]))"
            ]
          },
          "metadata": {},
          "execution_count": 9
        }
      ]
    }
  ]
}