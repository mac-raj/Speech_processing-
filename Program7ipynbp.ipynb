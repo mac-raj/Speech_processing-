{
  "nbformat": 4,
  "nbformat_minor": 0,
  "metadata": {
    "colab": {
      "provenance": [],
      "authorship_tag": "ABX9TyOCOMnTBLzB2H+/86W9zbpq",
      "include_colab_link": true
    },
    "kernelspec": {
      "name": "python3",
      "display_name": "Python 3"
    },
    "language_info": {
      "name": "python"
    }
  },
  "cells": [
    {
      "cell_type": "markdown",
      "metadata": {
        "id": "view-in-github",
        "colab_type": "text"
      },
      "source": [
        "<a href=\"https://colab.research.google.com/github/mac-raj/Speech_processing-/blob/main/Program7ipynbp.ipynb\" target=\"_parent\"><img src=\"https://colab.research.google.com/assets/colab-badge.svg\" alt=\"Open In Colab\"/></a>"
      ]
    },
    {
      "cell_type": "markdown",
      "source": [
        "# Write a Python function to Create an ARIMA Model for Time Series Forecasting."
      ],
      "metadata": {
        "id": "9TrZFewmWC-I"
      }
    },
    {
      "cell_type": "code",
      "execution_count": 2,
      "metadata": {
        "id": "XOAlcdRGVxlZ"
      },
      "outputs": [],
      "source": [
        "import pandas as pd\n",
        "import numpy as np\n",
        "from statsmodels.tsa.arima.model import ARIMA"
      ]
    },
    {
      "cell_type": "code",
      "source": [
        "# Create a random array\n",
        "data = np.random.rand(120)\n",
        "\n",
        "# Convert this array into dataframe\n",
        "df = pd.DataFrame(data,columns=['Value'])\n",
        "\n",
        "# Create an Arima model and fit that model\n",
        "model = ARIMA(df,order=(3,1,1))\n",
        "result = model.fit()"
      ],
      "metadata": {
        "id": "e1_BErJxW1Vt"
      },
      "execution_count": 14,
      "outputs": []
    },
    {
      "cell_type": "code",
      "source": [
        "print(result.summary())"
      ],
      "metadata": {
        "colab": {
          "base_uri": "https://localhost:8080/"
        },
        "id": "UXMzbFCUXgXF",
        "outputId": "b34362bf-97ea-470b-917c-ee52e67decef"
      },
      "execution_count": 15,
      "outputs": [
        {
          "output_type": "stream",
          "name": "stdout",
          "text": [
            "                               SARIMAX Results                                \n",
            "==============================================================================\n",
            "Dep. Variable:                  Value   No. Observations:                  120\n",
            "Model:                 ARIMA(3, 1, 1)   Log Likelihood                 -21.570\n",
            "Date:                Sun, 23 Apr 2023   AIC                             53.141\n",
            "Time:                        13:50:15   BIC                             67.037\n",
            "Sample:                             0   HQIC                            58.784\n",
            "                                - 120                                         \n",
            "Covariance Type:                  opg                                         \n",
            "==============================================================================\n",
            "                 coef    std err          z      P>|z|      [0.025      0.975]\n",
            "------------------------------------------------------------------------------\n",
            "ar.L1         -0.0982      0.108     -0.911      0.363      -0.310       0.113\n",
            "ar.L2          0.0313      0.113      0.276      0.782      -0.191       0.254\n",
            "ar.L3         -0.0819      0.100     -0.823      0.411      -0.277       0.113\n",
            "ma.L1         -0.9091      0.064    -14.256      0.000      -1.034      -0.784\n",
            "sigma2         0.0827      0.015      5.560      0.000       0.054       0.112\n",
            "===================================================================================\n",
            "Ljung-Box (L1) (Q):                   0.00   Jarque-Bera (JB):                 4.06\n",
            "Prob(Q):                              0.99   Prob(JB):                         0.13\n",
            "Heteroskedasticity (H):               1.31   Skew:                             0.10\n",
            "Prob(H) (two-sided):                  0.40   Kurtosis:                         2.12\n",
            "===================================================================================\n",
            "\n",
            "Warnings:\n",
            "[1] Covariance matrix calculated using the outer product of gradients (complex-step).\n"
          ]
        }
      ]
    }
  ]
}