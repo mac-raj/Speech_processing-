{
  "nbformat": 4,
  "nbformat_minor": 0,
  "metadata": {
    "colab": {
      "provenance": [],
      "authorship_tag": "ABX9TyMJgdiU8QadwlJ1DbQaEGxz",
      "include_colab_link": true
    },
    "kernelspec": {
      "name": "python3",
      "display_name": "Python 3"
    },
    "language_info": {
      "name": "python"
    }
  },
  "cells": [
    {
      "cell_type": "markdown",
      "metadata": {
        "id": "view-in-github",
        "colab_type": "text"
      },
      "source": [
        "<a href=\"https://colab.research.google.com/github/mac-raj/Speech_processing-/blob/main/Program3.ipynb\" target=\"_parent\"><img src=\"https://colab.research.google.com/assets/colab-badge.svg\" alt=\"Open In Colab\"/></a>"
      ]
    },
    {
      "cell_type": "markdown",
      "source": [
        "# Write a Python function for generating Monotone Audio Signal.\n"
      ],
      "metadata": {
        "id": "RPToag5yrw0M"
      }
    },
    {
      "cell_type": "code",
      "execution_count": 1,
      "metadata": {
        "id": "o4U00ZNMptEq",
        "colab": {
          "base_uri": "https://localhost:8080/"
        },
        "outputId": "d7d0f314-3ff8-413d-9b73-0c3be3a80a1b"
      },
      "outputs": [
        {
          "output_type": "stream",
          "name": "stdout",
          "text": [
            "Mounted at /content/gdrive\n"
          ]
        }
      ],
      "source": [
        "from google.colab import drive \n",
        "drive.mount('/content/gdrive')"
      ]
    },
    {
      "cell_type": "code",
      "source": [
        "import numpy as np\n",
        "from scipy.io.wavfile import write"
      ],
      "metadata": {
        "id": "yecxhXhzr8c2"
      },
      "execution_count": 6,
      "outputs": []
    },
    {
      "cell_type": "code",
      "source": [
        "def generate_monotone_audio_signal(frequency, duration, amplititude=1, sample_rate= 44100):\n",
        "  \"\"\"Generate a monotone audio signal of the specified frequency and duration.\"\"\"\n",
        "  # Calculate the number of samples required for the specified duration \n",
        "  num_samples = int(duration * sample_rate)\n",
        "\n",
        "  # Create an array of samples for the signal \n",
        "  time_array = np.linspace(0, duration, num_samples, endpoint=False)\n",
        "  signal_array = amplititude * np.sin(2*np.pi*frequency*time_array)\n",
        "\n",
        "  # Scale the signal to 16 bit integer range (-32768 to 32767)\n",
        "  signal_array = np.int16(signal_array*32767)\n",
        "\n",
        "  # Write the signal to Wav file\n",
        "  write('monotone_signal.wav',sample_rate,signal_array)\n",
        "\n",
        "  return signal_array\n",
        "\n",
        "signal = generate_monotone_audio_signal(440,1,0.5)\n",
        "signal"
      ],
      "metadata": {
        "colab": {
          "base_uri": "https://localhost:8080/"
        },
        "id": "Ac4d18UjsGMV",
        "outputId": "ebd866c4-429b-49a9-cfc9-196f50436092"
      },
      "execution_count": 8,
      "outputs": [
        {
          "output_type": "execute_result",
          "data": {
            "text/plain": [
              "array([    0,  1026,  2048, ..., -3063, -2048, -1026], dtype=int16)"
            ]
          },
          "metadata": {},
          "execution_count": 8
        }
      ]
    }
  ]
}