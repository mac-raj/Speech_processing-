{
  "nbformat": 4,
  "nbformat_minor": 0,
  "metadata": {
    "colab": {
      "provenance": [],
      "authorship_tag": "ABX9TyM+uZsDuVC5NCiNYFzHX3km",
      "include_colab_link": true
    },
    "kernelspec": {
      "name": "python3",
      "display_name": "Python 3"
    },
    "language_info": {
      "name": "python"
    }
  },
  "cells": [
    {
      "cell_type": "markdown",
      "metadata": {
        "id": "view-in-github",
        "colab_type": "text"
      },
      "source": [
        "<a href=\"https://colab.research.google.com/github/mac-raj/Speech_processing-/blob/main/Program6.ipynb\" target=\"_parent\"><img src=\"https://colab.research.google.com/assets/colab-badge.svg\" alt=\"Open In Colab\"/></a>"
      ]
    },
    {
      "cell_type": "markdown",
      "source": [
        "# Write a Python function for speech Recognition: Converting Speech to Text"
      ],
      "metadata": {
        "id": "TpzlVAX9DnDk"
      }
    },
    {
      "cell_type": "code",
      "source": [
        "from google.colab import drive \n",
        "drive.mount('/content/gdrive')"
      ],
      "metadata": {
        "colab": {
          "base_uri": "https://localhost:8080/"
        },
        "id": "mHJHqQfHF5-3",
        "outputId": "e80fcab4-25b8-41d3-a3a1-ca3733dedb9d"
      },
      "execution_count": 5,
      "outputs": [
        {
          "output_type": "stream",
          "name": "stdout",
          "text": [
            "Mounted at /content/gdrive\n"
          ]
        }
      ]
    },
    {
      "cell_type": "code",
      "execution_count": 6,
      "metadata": {
        "colab": {
          "base_uri": "https://localhost:8080/"
        },
        "id": "DJd5Uyu8DkoP",
        "outputId": "30ad4635-10fe-4e63-9c94-fb579b3e83db"
      },
      "outputs": [
        {
          "output_type": "stream",
          "name": "stdout",
          "text": [
            "Looking in indexes: https://pypi.org/simple, https://us-python.pkg.dev/colab-wheels/public/simple/\n",
            "Requirement already satisfied: SpeechRecognition in /usr/local/lib/python3.9/dist-packages (3.10.0)\n",
            "Requirement already satisfied: requests>=2.26.0 in /usr/local/lib/python3.9/dist-packages (from SpeechRecognition) (2.27.1)\n",
            "Requirement already satisfied: idna<4,>=2.5 in /usr/local/lib/python3.9/dist-packages (from requests>=2.26.0->SpeechRecognition) (3.4)\n",
            "Requirement already satisfied: certifi>=2017.4.17 in /usr/local/lib/python3.9/dist-packages (from requests>=2.26.0->SpeechRecognition) (2022.12.7)\n",
            "Requirement already satisfied: charset-normalizer~=2.0.0 in /usr/local/lib/python3.9/dist-packages (from requests>=2.26.0->SpeechRecognition) (2.0.12)\n",
            "Requirement already satisfied: urllib3<1.27,>=1.21.1 in /usr/local/lib/python3.9/dist-packages (from requests>=2.26.0->SpeechRecognition) (1.26.15)\n"
          ]
        }
      ],
      "source": [
        "!pip install SpeechRecognition\n",
        "import speech_recognition as sr\n",
        "import librosa"
      ]
    },
    {
      "cell_type": "code",
      "source": [
        "def speech_to_text(filename):\n",
        "  y,sampling_rate = librosa.load(filename)\n",
        "\n",
        "  # Initialize the recognizer \n",
        "  r = sr.Recognizer()\n",
        "\n",
        "  # Load audio file \n",
        "  with sr.AudioFile(filename) as source:\n",
        "    audio_data = r.record(source)\n",
        "\n",
        "  # Recognize Speech using Google speech recognition Api\n",
        "  try:\n",
        "    return(r.recognize_google(audio_data))\n",
        "  except sr.UnknownValueError:\n",
        "    print(\"Unable to recognize speech\")\n",
        "  except sr.RequestError as e:\n",
        "    print(f\"Request Error: {e}\")\n",
        "  except:\n",
        "    print(\"Unkown error\")"
      ],
      "metadata": {
        "id": "fPMcmpLNDwZp"
      },
      "execution_count": 14,
      "outputs": []
    },
    {
      "cell_type": "code",
      "source": [
        "filename = '/content/03-01-01-01-01-01-01.wav'\n",
        "text = speech_to_text(filename)"
      ],
      "metadata": {
        "id": "69RpWbXJENc4"
      },
      "execution_count": 15,
      "outputs": []
    },
    {
      "cell_type": "code",
      "source": [
        "print(text)"
      ],
      "metadata": {
        "colab": {
          "base_uri": "https://localhost:8080/"
        },
        "id": "rNuX-YtpGHTY",
        "outputId": "bb16442e-257c-447c-8250-76745f40a03f"
      },
      "execution_count": 16,
      "outputs": [
        {
          "output_type": "stream",
          "name": "stdout",
          "text": [
            "kids are talking by the door\n"
          ]
        }
      ]
    }
  ]
}