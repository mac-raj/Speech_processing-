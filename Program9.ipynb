{
  "nbformat": 4,
  "nbformat_minor": 0,
  "metadata": {
    "colab": {
      "provenance": [],
      "authorship_tag": "ABX9TyOW8dRxZqo9gMinqgWQd+a9",
      "include_colab_link": true
    },
    "kernelspec": {
      "name": "python3",
      "display_name": "Python 3"
    },
    "language_info": {
      "name": "python"
    }
  },
  "cells": [
    {
      "cell_type": "markdown",
      "metadata": {
        "id": "view-in-github",
        "colab_type": "text"
      },
      "source": [
        "<a href=\"https://colab.research.google.com/github/mac-raj/Speech_processing-/blob/main/Program9.ipynb\" target=\"_parent\"><img src=\"https://colab.research.google.com/assets/colab-badge.svg\" alt=\"Open In Colab\"/></a>"
      ]
    },
    {
      "cell_type": "markdown",
      "source": [
        "# Write Python function to compute modified Discrete Cosine Transform (MDCT).\n"
      ],
      "metadata": {
        "id": "yX6n3uJraoOe"
      }
    },
    {
      "cell_type": "code",
      "execution_count": 4,
      "metadata": {
        "colab": {
          "base_uri": "https://localhost:8080/"
        },
        "id": "hDu1PQzuakzI",
        "outputId": "0080a915-8f07-4d9e-e74c-37492e781aa5"
      },
      "outputs": [
        {
          "output_type": "stream",
          "name": "stdout",
          "text": [
            "Looking in indexes: https://pypi.org/simple, https://us-python.pkg.dev/colab-wheels/public/simple/\n",
            "Collecting mdct\n",
            "  Downloading mdct-0.4.tar.gz (4.1 kB)\n",
            "  Preparing metadata (setup.py) ... \u001b[?25l\u001b[?25hdone\n",
            "Requirement already satisfied: numpy>=1.6 in /usr/local/lib/python3.9/dist-packages (from mdct) (1.22.4)\n",
            "Requirement already satisfied: scipy>=0.13.0 in /usr/local/lib/python3.9/dist-packages (from mdct) (1.10.1)\n",
            "Collecting stft>=0.5.2\n",
            "  Downloading stft-0.5.2-py2.py3-none-any.whl (6.9 kB)\n",
            "Building wheels for collected packages: mdct\n",
            "  Building wheel for mdct (setup.py) ... \u001b[?25l\u001b[?25hdone\n",
            "  Created wheel for mdct: filename=mdct-0.4-py2.py3-none-any.whl size=6385 sha256=1a9469f01061d668b4926391ccde05c7ee2a4b8e411a02afed4d0902ea2dd0d5\n",
            "  Stored in directory: /root/.cache/pip/wheels/e7/23/b1/aa8e639f4a1142973401c44760f5c779edcd57ab13dbf5fc9e\n",
            "Successfully built mdct\n",
            "Installing collected packages: stft, mdct\n",
            "Successfully installed mdct-0.4 stft-0.5.2\n"
          ]
        }
      ],
      "source": [
        "import numpy as np\n",
        "!pip install mdct\n",
        "import mdct"
      ]
    },
    {
      "cell_type": "code",
      "source": [
        "sr = 44100\n",
        "duration = 5\n",
        "\n",
        "# Generate random audio signal \n",
        "x = np.random.rand(sr*duration)\n",
        "print(f\"Shape of audio data = {x.shape}\")\n",
        "\n",
        "# Compute MDCT of audio signal\n",
        "MDCT = mdct.mdct(x)\n",
        "print(f\"Shape of MDCT cofficients = {x.shape}\")\n",
        "\n",
        "# Print MDCT cofficients\n",
        "print(f\"\\n\\nMDCT={MDCT}\")"
      ],
      "metadata": {
        "colab": {
          "base_uri": "https://localhost:8080/"
        },
        "id": "9dXs7pZTavOF",
        "outputId": "fcc08f32-5aaf-4a78-c155-600b4abaf768"
      },
      "execution_count": 6,
      "outputs": [
        {
          "output_type": "stream",
          "name": "stdout",
          "text": [
            "Shape of audio data = (220500,)\n",
            "Shape of MDCT cofficients = (220500,)\n",
            "\n",
            "\n",
            "MDCT=[[-9.34512678e+00 -1.09021909e+01 -1.12738667e+01 ... -9.96793963e+00\n",
            "   4.68876115e-01  0.00000000e+00]\n",
            " [-3.89778884e+00  5.98244232e-02 -4.89864984e-02 ...  6.85335449e-01\n",
            "  -9.37625545e-01  0.00000000e+00]\n",
            " [ 9.20278905e-01 -1.04722825e-01  2.02072250e-02 ... -8.23545470e-01\n",
            "   5.10277919e-01 -0.00000000e+00]\n",
            " ...\n",
            " [-1.33398474e-01 -6.74251314e-02  1.92077226e-01 ... -1.92071003e-03\n",
            "   2.03160094e-01 -0.00000000e+00]\n",
            " [-1.91613725e-01 -2.64749772e-01  2.54334201e-01 ... -4.54373238e-01\n",
            "  -1.25441821e-01  0.00000000e+00]\n",
            " [-8.93641625e-02 -1.66111253e-02  6.58962423e-01 ...  2.10853070e-01\n",
            "   2.68536411e-02  0.00000000e+00]]\n"
          ]
        }
      ]
    }
  ]
}